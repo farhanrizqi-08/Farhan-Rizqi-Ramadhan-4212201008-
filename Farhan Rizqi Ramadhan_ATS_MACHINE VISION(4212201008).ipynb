{
  "cells": [
    {
      "cell_type": "markdown",
      "source": [
        "FARHAN \"INSTALL LIBRARY PANDAS\""
      ],
      "metadata": {
        "id": "Tzdl7avNSYW0"
      },
      "id": "Tzdl7avNSYW0"
    },
    {
      "cell_type": "code",
      "source": [
        "pip install pandas"
      ],
      "metadata": {
        "colab": {
          "base_uri": "https://localhost:8080/"
        },
        "id": "qKn04qQz8Pz_",
        "outputId": "dfe2cd27-4864-421a-d475-a3839cc4887a"
      },
      "id": "qKn04qQz8Pz_",
      "execution_count": 1,
      "outputs": [
        {
          "output_type": "stream",
          "name": "stdout",
          "text": [
            "Requirement already satisfied: pandas in /usr/local/lib/python3.10/dist-packages (2.2.2)\n",
            "Requirement already satisfied: numpy>=1.22.4 in /usr/local/lib/python3.10/dist-packages (from pandas) (1.26.4)\n",
            "Requirement already satisfied: python-dateutil>=2.8.2 in /usr/local/lib/python3.10/dist-packages (from pandas) (2.8.2)\n",
            "Requirement already satisfied: pytz>=2020.1 in /usr/local/lib/python3.10/dist-packages (from pandas) (2024.2)\n",
            "Requirement already satisfied: tzdata>=2022.7 in /usr/local/lib/python3.10/dist-packages (from pandas) (2024.2)\n",
            "Requirement already satisfied: six>=1.5 in /usr/local/lib/python3.10/dist-packages (from python-dateutil>=2.8.2->pandas) (1.16.0)\n"
          ]
        }
      ]
    },
    {
      "cell_type": "markdown",
      "source": [
        "FARHAN \"IMPORT LIBRARY\""
      ],
      "metadata": {
        "id": "XXo6aoBQSnY3"
      },
      "id": "XXo6aoBQSnY3"
    },
    {
      "cell_type": "code",
      "execution_count": 4,
      "metadata": {
        "id": "q7EXirTi06hq"
      },
      "outputs": [],
      "source": [
        "import numpy as np\n",
        "import pandas as pd\n",
        "import matplotlib.pyplot as plt\n",
        "from sklearn.model_selection import LeaveOneOut, cross_val_score, cross_val_predict\n",
        "from sklearn.preprocessing import StandardScaler\n",
        "from sklearn import svm\n",
        "from sklearn.metrics import confusion_matrix, accuracy_score, precision_score, recall_score, f1_score\n",
        "from skimage.feature import hog\n",
        "from mlxtend.plotting import plot_confusion_matrix"
      ],
      "id": "q7EXirTi06hq"
    },
    {
      "cell_type": "markdown",
      "source": [
        "Pemanggilan datasets"
      ],
      "metadata": {
        "id": "b9VH8TRGxdxH"
      },
      "id": "b9VH8TRGxdxH"
    },
    {
      "cell_type": "code",
      "execution_count": 5,
      "metadata": {
        "id": "HUGi0Zcy06hr",
        "collapsed": true
      },
      "outputs": [],
      "source": [
        "train_data = pd.read_csv('/content/emnist-bymerge-train.csv', header=None)\n",
        "test_data = pd.read_csv('/content/emnist-bymerge-test.csv', header=None)"
      ],
      "id": "HUGi0Zcy06hr"
    },
    {
      "cell_type": "markdown",
      "source": [
        "Pembagian sampel dan perubahan jenis dari bilangan ke images"
      ],
      "metadata": {
        "id": "A8BHqlD8xkDP"
      },
      "id": "A8BHqlD8xkDP"
    },
    {
      "cell_type": "code",
      "execution_count": 6,
      "metadata": {
        "id": "fauGAERN06hr"
      },
      "outputs": [],
      "source": [
        "X_train = train_data.iloc[:, 1:].values.reshape(-1, 28, 28).astype('float32')  # Semua kolom kecuali yang pertama (label)\n",
        "y_train = train_data.iloc[:, 0].values.astype('int')    # Kolom pertama adalah label\n",
        "X_test = test_data.iloc[:, 1:].values.reshape(-1, 28, 28).astype('float32')\n",
        "y_test = test_data.iloc[:, 0].values.astype('int')"
      ],
      "id": "fauGAERN06hr"
    },
    {
      "cell_type": "code",
      "execution_count": 17,
      "metadata": {
        "id": "MkPdVuBN06hr"
      },
      "outputs": [],
      "source": [
        "max_samples = 250\n",
        "if len(X_train) > max_samples:\n",
        "    X_train = X_train[:max_samples]\n",
        "    y_train = y_train[:max_samples]"
      ],
      "id": "MkPdVuBN06hr"
    },
    {
      "cell_type": "code",
      "execution_count": 18,
      "metadata": {
        "id": "z47y7eHn06hr"
      },
      "outputs": [],
      "source": [
        "if len(X_test) > max_samples:\n",
        "    X_test = X_test[:max_samples]\n",
        "    y_test = y_test[:max_samples]"
      ],
      "id": "z47y7eHn06hr"
    },
    {
      "cell_type": "markdown",
      "source": [
        "Ekstraksi dataset dengan fitur HOG"
      ],
      "metadata": {
        "id": "ciTxuJ_UxqMN"
      },
      "id": "ciTxuJ_UxqMN"
    },
    {
      "cell_type": "code",
      "execution_count": 19,
      "metadata": {
        "id": "1_HiUvQe06hs"
      },
      "outputs": [],
      "source": [
        "hog_features_train = []\n",
        "hog_images_train = []\n",
        "for image in X_train:\n",
        "    feature, hog_img = hog(image.reshape((28, 28)),\n",
        "                           orientations = 9,\n",
        "                           pixels_per_cell = (8,8),\n",
        "                           cells_per_block = (2,2),\n",
        "                           visualize = True,\n",
        "                           block_norm = 'L2')\n",
        "    hog_features_train.append(feature)\n",
        "    hog_images_train.append(hog_img)\n",
        "hog_features_train_np = np.array(hog_features_train)\n",
        "hog_images_train_np = np.array(hog_images_train)\n",
        "\n",
        "hog_features_test = []\n",
        "hog_images_test = []\n",
        "for image in X_test:\n",
        "    feature, hog_img = hog(image.reshape((28, 28)),\n",
        "                           orientations = 9,\n",
        "                           pixels_per_cell = (8,8),\n",
        "                           cells_per_block = (2,2),\n",
        "                           visualize = True,\n",
        "                           block_norm = 'L2')\n",
        "    hog_features_test.append(feature)\n",
        "    hog_images_test.append(hog_img)\n",
        "\n",
        "hog_features_test_np = np.array(hog_features_test)\n",
        "hog_images_test_np = np.array(hog_images_test)"
      ],
      "id": "1_HiUvQe06hs"
    },
    {
      "cell_type": "markdown",
      "source": [
        "Normalisasi data HOG"
      ],
      "metadata": {
        "id": "TpvYX984x-07"
      },
      "id": "TpvYX984x-07"
    },
    {
      "cell_type": "code",
      "source": [
        "scaler = StandardScaler()\n",
        "hog_features_train_scaled = scaler.fit_transform(hog_features_train_np)\n",
        "hog_features_test_scaled = scaler.transform(hog_features_test_np)"
      ],
      "metadata": {
        "id": "cMor7fHZFnc9"
      },
      "id": "cMor7fHZFnc9",
      "execution_count": 20,
      "outputs": []
    },
    {
      "cell_type": "markdown",
      "source": [
        "Klasifikasi data dengan SVM"
      ],
      "metadata": {
        "id": "Uqw5GyRGyB6K"
      },
      "id": "Uqw5GyRGyB6K"
    },
    {
      "cell_type": "code",
      "execution_count": 21,
      "metadata": {
        "id": "C668HJnL06hs"
      },
      "outputs": [],
      "source": [
        "clf = svm.SVC(kernel='rbf', C=1, gamma='scale')"
      ],
      "id": "C668HJnL06hs"
    },
    {
      "cell_type": "markdown",
      "source": [
        "Perhitungan dengan LOOVC berupa konfusi matriks, akurasi, presisi, recall, dan f1 score"
      ],
      "metadata": {
        "id": "x_q2pH9UyIyR"
      },
      "id": "x_q2pH9UyIyR"
    },
    {
      "cell_type": "code",
      "source": [
        "loo = LeaveOneOut()\n",
        "y_pred = cross_val_predict(clf, hog_features_train_scaled, y_train, cv=loo)"
      ],
      "metadata": {
        "collapsed": true,
        "id": "P-9wWeTnH-Km"
      },
      "id": "P-9wWeTnH-Km",
      "execution_count": 22,
      "outputs": []
    },
    {
      "cell_type": "code",
      "execution_count": 23,
      "metadata": {
        "id": "yPT0YEi806ht",
        "colab": {
          "base_uri": "https://localhost:8080/"
        },
        "outputId": "119ce587-c403-44d3-8e47-1bfb1c9156bb"
      },
      "outputs": [
        {
          "output_type": "stream",
          "name": "stderr",
          "text": [
            "/usr/local/lib/python3.10/dist-packages/sklearn/metrics/_classification.py:1531: UndefinedMetricWarning: Precision is ill-defined and being set to 0.0 in labels with no predicted samples. Use `zero_division` parameter to control this behavior.\n",
            "  _warn_prf(average, modifier, f\"{metric.capitalize()} is\", len(result))\n"
          ]
        }
      ],
      "source": [
        "loo_confusion_matrix = confusion_matrix(y_train, y_pred)\n",
        "loo_accuracy = accuracy_score(y_train, y_pred)\n",
        "loo_precision = precision_score(y_train, y_pred, average='weighted')\n",
        "loo_recall = recall_score(y_train, y_pred, average='weighted')\n",
        "loo_f1 = f1_score(y_train, y_pred, average='weighted')"
      ],
      "id": "yPT0YEi806ht"
    },
    {
      "cell_type": "code",
      "source": [
        "print(\"\\nLOOCV Results (Training Data):\")\n",
        "print(\"Confusion Matrix:\")\n",
        "print(loo_confusion_matrix)\n",
        "print(\"Accuracy:\", loo_accuracy)\n",
        "print(\"Precision:\", loo_precision)\n",
        "print(\"Recall:\", loo_recall)\n",
        "print(\"F1 Score:\", loo_f1)"
      ],
      "metadata": {
        "id": "c_JBk_kgNxqw",
        "colab": {
          "base_uri": "https://localhost:8080/"
        },
        "outputId": "2207465c-b23a-4bd6-a904-693c85588651"
      },
      "id": "c_JBk_kgNxqw",
      "execution_count": 24,
      "outputs": [
        {
          "output_type": "stream",
          "name": "stdout",
          "text": [
            "\n",
            "LOOCV Results (Training Data):\n",
            "Confusion Matrix:\n",
            "[[ 8  0  0 ...  0  0  0]\n",
            " [ 0 17  0 ...  0  0  0]\n",
            " [ 0  0 11 ...  0  0  0]\n",
            " ...\n",
            " [ 0  0  0 ...  0  0  0]\n",
            " [ 0  0  0 ...  0  0  0]\n",
            " [ 0  0  0 ...  0  0 10]]\n",
            "Accuracy: 0.496\n",
            "Precision: 0.3721202442002442\n",
            "Recall: 0.496\n",
            "F1 Score: 0.41090728573537694\n"
          ]
        }
      ]
    },
    {
      "cell_type": "markdown",
      "source": [
        "Generate tabel matriks"
      ],
      "metadata": {
        "id": "-hqXOXYoyRUQ"
      },
      "id": "-hqXOXYoyRUQ"
    },
    {
      "cell_type": "code",
      "source": [
        "def plot_confusion_mat(cm):\n",
        "    fig, ax = plt.subplots(figsize=(10, 10))\n",
        "    plot_confusion_matrix(conf_mat=cm, ax=ax, cmap=plt.cm.Blues)\n",
        "    plt.title('Confusion Matrix')\n",
        "    plt.xlabel('Predicted Label')\n",
        "    plt.ylabel('True Label')\n",
        "    plt.show()"
      ],
      "metadata": {
        "id": "sO0UAJRCWGVv"
      },
      "id": "sO0UAJRCWGVv",
      "execution_count": 25,
      "outputs": []
    },
    {
      "cell_type": "code",
      "source": [
        "plot_confusion_matrix(loo_confusion_matrix)"
      ],
      "metadata": {
        "id": "mQd5MwaoneLX",
        "colab": {
          "base_uri": "https://localhost:8080/",
          "height": 487
        },
        "outputId": "ab9b674d-3fb7-42be-88dd-42e5b2695a6f"
      },
      "id": "mQd5MwaoneLX",
      "execution_count": 26,
      "outputs": [
        {
          "output_type": "execute_result",
          "data": {
            "text/plain": [
              "(<Figure size 640x480 with 1 Axes>,\n",
              " <Axes: xlabel='predicted label', ylabel='true label'>)"
            ]
          },
          "metadata": {},
          "execution_count": 26
        },
        {
          "output_type": "display_data",
          "data": {
            "text/plain": [
              "<Figure size 640x480 with 1 Axes>"
            ],
            "image/png": "[encoded data removed]"
          },
          "metadata": {}
        }
      ]
    },
    {
      "cell_type": "markdown",
      "source": [
        "Perbandingan antara gambar original dengan fitur ekstraksi HOG"
      ],
      "metadata": {
        "id": "yqsOO5Y0yX4X"
      },
      "id": "yqsOO5Y0yX4X"
    },
    {
      "cell_type": "code",
      "source": [
        "def plot_images_with_hog(X, hog_images, title=\"\"):\n",
        "    fig, axes = plt.subplots(2, 10, figsize=(15, 5))\n",
        "    fig.suptitle(title)\n",
        "\n",
        "    # Plot original images\n",
        "    for i in range(min(len(X), 10)):\n",
        "        axes[0, i].imshow(X[i].reshape((28, 28)), cmap='gray')\n",
        "        axes[0, i].axis('off')\n",
        "\n",
        "    # Plot HOG images\n",
        "    for i in range(min(len(hog_images), 10)):\n",
        "        axes[1, i].imshow(hog_images[i].reshape((28, 28)), cmap='gray')\n",
        "        axes[1, i].axis('off')\n",
        "\n",
        "    plt.show()"
      ],
      "metadata": {
        "id": "6nqImiOqnhG6"
      },
      "id": "6nqImiOqnhG6",
      "execution_count": 27,
      "outputs": []
    },
    {
      "cell_type": "code",
      "source": [
        "def extract_hog_images(images):\n",
        "    hog_images = []\n",
        "    for image in images:\n",
        "        _, hog_img = hog(image.reshape((28, 28)),\n",
        "                         orientations=9,\n",
        "                         pixels_per_cell=(8, 8),\n",
        "                         cells_per_block=(2, 2),\n",
        "                         visualize=True,\n",
        "                         block_norm='L2')\n",
        "        hog_images.append(hog_img)\n",
        "    return np.array(hog_images)"
      ],
      "metadata": {
        "id": "aGk7R6NFnlRR"
      },
      "id": "aGk7R6NFnlRR",
      "execution_count": 28,
      "outputs": []
    },
    {
      "cell_type": "code",
      "source": [
        "hog_images_train = extract_hog_images(X_train)"
      ],
      "metadata": {
        "id": "WwFakGtVnohu"
      },
      "id": "WwFakGtVnohu",
      "execution_count": 29,
      "outputs": []
    },
    {
      "cell_type": "code",
      "source": [
        "plot_images_with_hog(X_train, hog_images_train, title=\"Original Images and HOG Features\")"
      ],
      "metadata": {
        "id": "EkW59gaTnrcT",
        "colab": {
          "base_uri": "https://localhost:8080/",
          "height": 409
        },
        "outputId": "a66b5a0c-7171-4f85-e846-f05cd269b79e"
      },
      "id": "EkW59gaTnrcT",
      "execution_count": 30,
      "outputs": [
        {
          "output_type": "display_data",
          "data": {
            "text/plain": [
              "<Figure size 1500x500 with 20 Axes>"
            ],
            "image/png": "[encoded data removed]"
          },
          "metadata": {}
        }
      ]
    }
  ],
  "metadata": {
    "kernelspec": {
      "display_name": "Python 3",
      "name": "python3"
    },
    "language_info": {
      "codemirror_mode": {
        "name": "ipython",
        "version": 3
      },
      "file_extension": ".py",
      "mimetype": "text/x-python",
      "name": "python",
      "nbconvert_exporter": "python",
      "pygments_lexer": "ipython3",
      "version": "3.7.3"
    },
    "colab": {
      "provenance": [],
      "gpuType": "T4"
    },
    "accelerator": "GPU"
  },
  "nbformat": 4,
  "nbformat_minor": 5
}